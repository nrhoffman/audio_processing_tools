{
 "cells": [
  {
   "cell_type": "code",
   "execution_count": 12,
   "id": "d1dd1b1b-8dd3-41f9-8c38-85945aa97f84",
   "metadata": {},
   "outputs": [],
   "source": [
    "import librosa\n",
    "import os\n",
    "import soundfile as sf\n",
    "\n",
    "data = \"E:/Data/noise_filter\"\n",
    "noise = data + \"/raw_data/noise\"\n",
    "original_noise = noise + \"/original\""
   ]
  },
  {
   "cell_type": "code",
   "execution_count": 145,
   "id": "be197492-29eb-4b01-beb0-000b517f0c28",
   "metadata": {},
   "outputs": [],
   "source": [
    "#Slice some noise\n",
    "file_name = original_noise + \"/43336538_crowd-cheering-outside-01.wav\"\n",
    "signal, sr = librosa.load(file_name, sr=16000)"
   ]
  },
  {
   "cell_type": "code",
   "execution_count": 146,
   "id": "468ba624-5943-4a07-ae69-f2d13e510e49",
   "metadata": {},
   "outputs": [],
   "source": [
    "#Get 7 second samples\n",
    "start_time = 0\n",
    "end_time = start_time + 7\n",
    "start_sample = int(start_time * sr)\n",
    "end_sample = int(end_time * sr)\n",
    "\n",
    "sample = signal[start_sample:end_sample]\n",
    "\n",
    "file_export = noise + \"/crowd-cheering-alot.flac\"\n",
    "sf.write(file_export, sample, sr, format='FLAC')"
   ]
  },
  {
   "cell_type": "code",
   "execution_count": null,
   "id": "a39ae901-8640-4f02-89e0-b57c15033fff",
   "metadata": {},
   "outputs": [],
   "source": []
  }
 ],
 "metadata": {
  "kernelspec": {
   "display_name": "Python 3 (ipykernel)",
   "language": "python",
   "name": "python3"
  },
  "language_info": {
   "codemirror_mode": {
    "name": "ipython",
    "version": 3
   },
   "file_extension": ".py",
   "mimetype": "text/x-python",
   "name": "python",
   "nbconvert_exporter": "python",
   "pygments_lexer": "ipython3",
   "version": "3.12.6"
  }
 },
 "nbformat": 4,
 "nbformat_minor": 5
}
